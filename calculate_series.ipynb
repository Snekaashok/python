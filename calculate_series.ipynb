{
  "nbformat": 4,
  "nbformat_minor": 0,
  "metadata": {
    "colab": {
      "provenance": [],
      "authorship_tag": "ABX9TyNrYLvuOLD8XtJd2hsP2Ufq",
      "include_colab_link": true
    },
    "kernelspec": {
      "name": "python3",
      "display_name": "Python 3"
    },
    "language_info": {
      "name": "python"
    }
  },
  "cells": [
    {
      "cell_type": "markdown",
      "metadata": {
        "id": "view-in-github",
        "colab_type": "text"
      },
      "source": [
        "<a href=\"https://colab.research.google.com/github/Snekaashok/python/blob/main/calculate_series.ipynb\" target=\"_parent\"><img src=\"https://colab.research.google.com/assets/colab-badge.svg\" alt=\"Open In Colab\"/></a>"
      ]
    },
    {
      "cell_type": "code",
      "source": [
        "def calculate_series(n):\n",
        "    total_sum = 0\n",
        "    for i in range(1, n + 1):\n",
        "        current_sum = sum(range(1, i + 1))\n",
        "        total_sum += current_sum\n",
        "        print('+'.join(map(str, range(1, i + 1))), '=', current_sum)\n",
        "    print(\"The sum of the above series is:\", total_sum)\n",
        "\n",
        "n = int(input(\"Input the value for nth term: \"))\n",
        "calculate_series(n)\n"
      ],
      "metadata": {
        "colab": {
          "base_uri": "https://localhost:8080/"
        },
        "id": "pBqdrGNIEn7p",
        "outputId": "9c819c26-86c4-46cf-be6c-25a7f501c8ee"
      },
      "execution_count": null,
      "outputs": [
        {
          "output_type": "stream",
          "name": "stdout",
          "text": [
            "Input the value for nth term: 5\n",
            "1 = 1\n",
            "1+2 = 3\n",
            "1+2+3 = 6\n",
            "1+2+3+4 = 10\n",
            "1+2+3+4+5 = 15\n",
            "The sum of the above series is: 35\n"
          ]
        }
      ]
    }
  ]
}