{
  "nbformat": 4,
  "nbformat_minor": 0,
  "metadata": {
    "colab": {
      "provenance": [],
      "name": "Fibonacci_series..ipynb",
      "authorship_tag": "ABX9TyNuDt8pcRGBEbDFwmAIpdgG",
      "include_colab_link": true
    },
    "kernelspec": {
      "name": "python3",
      "display_name": "Python 3"
    },
    "language_info": {
      "name": "python"
    }
  },
  "cells": [
    {
      "cell_type": "markdown",
      "metadata": {
        "id": "view-in-github",
        "colab_type": "text"
      },
      "source": [
        "<a href=\"https://colab.research.google.com/github/Snekaashok/python/blob/main/Fibonacci_series_.ipynb\" target=\"_parent\"><img src=\"https://colab.research.google.com/assets/colab-badge.svg\" alt=\"Open In Colab\"/></a>"
      ]
    },
    {
      "cell_type": "code",
      "source": [
        "def fibonacci(n):\n",
        "    a, b = 0, 1\n",
        "    for _ in range(n):\n",
        "        yield a\n",
        "        a, b = b, a + b\n",
        "\n",
        "n = int(input(\"Input number of terms to display: \"))\n",
        "print(\"Here is the Fibonacci series up to\", n, \"terms:\")\n",
        "print(*fibonacci(n))\n"
      ],
      "metadata": {
        "id": "bWCahT6xF91v",
        "outputId": "badcdf8a-f034-4aac-b987-0376b9781907",
        "colab": {
          "base_uri": "https://localhost:8080/"
        }
      },
      "execution_count": 1,
      "outputs": [
        {
          "output_type": "stream",
          "name": "stdout",
          "text": [
            "Input number of terms to display: 10\n",
            "Here is the Fibonacci series up to 10 terms:\n",
            "0 1 1 2 3 5 8 13 21 34\n"
          ]
        }
      ]
    }
  ]
}