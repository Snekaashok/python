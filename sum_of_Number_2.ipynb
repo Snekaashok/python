{
  "nbformat": 4,
  "nbformat_minor": 0,
  "metadata": {
    "colab": {
      "provenance": [],
      "authorship_tag": "ABX9TyOkR/lWhElbU1o/OS6gOrAM",
      "include_colab_link": true
    },
    "kernelspec": {
      "name": "python3",
      "display_name": "Python 3"
    },
    "language_info": {
      "name": "python"
    }
  },
  "cells": [
    {
      "cell_type": "markdown",
      "metadata": {
        "id": "view-in-github",
        "colab_type": "text"
      },
      "source": [
        "<a href=\"https://colab.research.google.com/github/Snekaashok/python/blob/main/sum_of_Number_2.ipynb\" target=\"_parent\"><img src=\"https://colab.research.google.com/assets/colab-badge.svg\" alt=\"Open In Colab\"/></a>"
      ]
    },
    {
      "cell_type": "code",
      "source": [
        "a=int(input())\n",
        "num=0\n",
        "while(a>0):\n",
        "  num+=a\n",
        "  a-=1\n",
        "  print(\"the sum is:\",num)"
      ],
      "metadata": {
        "colab": {
          "base_uri": "https://localhost:8080/"
        },
        "id": "GTmhYcE42L05",
        "outputId": "402330af-67f2-4798-f6cb-89ae555c0ef1"
      },
      "execution_count": 11,
      "outputs": [
        {
          "output_type": "stream",
          "name": "stdout",
          "text": [
            "5\n",
            "the sum is: 5\n",
            "the sum is: 9\n",
            "the sum is: 12\n",
            "the sum is: 14\n",
            "the sum is: 15\n"
          ]
        }
      ]
    }
  ]
}