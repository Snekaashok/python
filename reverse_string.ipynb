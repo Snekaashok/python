{
  "nbformat": 4,
  "nbformat_minor": 0,
  "metadata": {
    "colab": {
      "provenance": [],
      "authorship_tag": "ABX9TyPj/ulV2MC/jcPGhbEA8pkY",
      "include_colab_link": true
    },
    "kernelspec": {
      "name": "python3",
      "display_name": "Python 3"
    },
    "language_info": {
      "name": "python"
    }
  },
  "cells": [
    {
      "cell_type": "markdown",
      "metadata": {
        "id": "view-in-github",
        "colab_type": "text"
      },
      "source": [
        "<a href=\"https://colab.research.google.com/github/Snekaashok/python/blob/main/reverse_string.ipynb\" target=\"_parent\"><img src=\"https://colab.research.google.com/assets/colab-badge.svg\" alt=\"Open In Colab\"/></a>"
      ]
    },
    {
      "cell_type": "code",
      "execution_count": 1,
      "metadata": {
        "colab": {
          "base_uri": "https://localhost:8080/"
        },
        "id": "768oD7i73p_P",
        "outputId": "2ee53b82-57f2-4f7a-d697-27b27f03ba4b"
      },
      "outputs": [
        {
          "output_type": "stream",
          "name": "stdout",
          "text": [
            "Enter a string: game playing\n",
            "The string in reverse is: gniyalp emag\n"
          ]
        }
      ],
      "source": [
        "def reverse_string(s):\n",
        "    return s[::-1]\n",
        "input_string = input(\"Enter a string: \")\n",
        "reversed_string = reverse_string(input_string)\n",
        "print(\"The string in reverse is:\", reversed_string)\n"
      ]
    }
  ]
}