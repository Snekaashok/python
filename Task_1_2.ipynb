{
  "nbformat": 4,
  "nbformat_minor": 0,
  "metadata": {
    "colab": {
      "provenance": [],
      "authorship_tag": "ABX9TyNBWNY8BnGUyXJDLQh0bIsJ",
      "include_colab_link": true
    },
    "kernelspec": {
      "name": "python3",
      "display_name": "Python 3"
    },
    "language_info": {
      "name": "python"
    }
  },
  "cells": [
    {
      "cell_type": "markdown",
      "metadata": {
        "id": "view-in-github",
        "colab_type": "text"
      },
      "source": [
        "<a href=\"https://colab.research.google.com/github/Snekaashok/python/blob/main/Task_1_2.ipynb\" target=\"_parent\"><img src=\"https://colab.research.google.com/assets/colab-badge.svg\" alt=\"Open In Colab\"/></a>"
      ]
    },
    {
      "cell_type": "code",
      "source": [
        "n = int(input(\"Input a number of terms: \"))\n",
        "print(\"The natural numbers up to[]terms are:\".format(n))\n",
        "for i in range(1, n + 1):\n",
        "    print(i, end=\" \")\n",
        "sum_of_numbers = sum(range(1, n + 1))\n",
        "print(\"The sum of the natural numbers is:\", sum_of_numbers)"
      ],
      "metadata": {
        "colab": {
          "base_uri": "https://localhost:8080/"
        },
        "id": "JoCvzmxA7K08",
        "outputId": "bfd54903-406a-457b-8ea7-2c1849ba5724"
      },
      "execution_count": 6,
      "outputs": [
        {
          "output_type": "stream",
          "name": "stdout",
          "text": [
            "Input a number of terms: 7\n",
            "The natural numbers up to[]terms are:\n",
            "1 2 3 4 5 6 7 The sum of the natural numbers is: 28\n"
          ]
        }
      ]
    }
  ]
}