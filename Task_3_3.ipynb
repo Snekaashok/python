{
  "nbformat": 4,
  "nbformat_minor": 0,
  "metadata": {
    "colab": {
      "provenance": [],
      "authorship_tag": "ABX9TyNmAywYnqBfwPf8L11BZG6R",
      "include_colab_link": true
    },
    "kernelspec": {
      "name": "python3",
      "display_name": "Python 3"
    },
    "language_info": {
      "name": "python"
    }
  },
  "cells": [
    {
      "cell_type": "markdown",
      "metadata": {
        "id": "view-in-github",
        "colab_type": "text"
      },
      "source": [
        "<a href=\"https://colab.research.google.com/github/Snekaashok/python/blob/main/Task_3_3.ipynb\" target=\"_parent\"><img src=\"https://colab.research.google.com/assets/colab-badge.svg\" alt=\"Open In Colab\"/></a>"
      ]
    },
    {
      "cell_type": "code",
      "source": [
        "def display_cube_up_to_n(n):\n",
        "    for i in range(1, n + 1):\n",
        "        cube = i ** 3\n",
        "        print(f\"Number is : [i] and the cube of [i] is: {cube}\")\n",
        "num_terms = int(input(\"Input the number of terms: \"))\n",
        "display_cube_up_to_n(num_terms)\n"
      ],
      "metadata": {
        "colab": {
          "base_uri": "https://localhost:8080/"
        },
        "id": "E47aYzUzlF7i",
        "outputId": "6e9b5558-3183-4f9c-af0a-084536a1e20d"
      },
      "execution_count": 1,
      "outputs": [
        {
          "output_type": "stream",
          "name": "stdout",
          "text": [
            "Input the number of terms: 5\n",
            "Number is : [i] and the cube of [i] is: 1\n",
            "Number is : [i] and the cube of [i] is: 8\n",
            "Number is : [i] and the cube of [i] is: 27\n",
            "Number is : [i] and the cube of [i] is: 64\n",
            "Number is : [i] and the cube of [i] is: 125\n"
          ]
        }
      ]
    }
  ]
}