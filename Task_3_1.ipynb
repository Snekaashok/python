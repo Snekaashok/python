{
  "nbformat": 4,
  "nbformat_minor": 0,
  "metadata": {
    "colab": {
      "provenance": [],
      "authorship_tag": "ABX9TyOmqF5EreFssTyqSUF8P9Ib",
      "include_colab_link": true
    },
    "kernelspec": {
      "name": "python3",
      "display_name": "Python 3"
    },
    "language_info": {
      "name": "python"
    }
  },
  "cells": [
    {
      "cell_type": "markdown",
      "metadata": {
        "id": "view-in-github",
        "colab_type": "text"
      },
      "source": [
        "<a href=\"https://colab.research.google.com/github/Snekaashok/python/blob/main/Task_3_1.ipynb\" target=\"_parent\"><img src=\"https://colab.research.google.com/assets/colab-badge.svg\" alt=\"Open In Colab\"/></a>"
      ]
    },
    {
      "cell_type": "code",
      "source": [
        "n = int(input('Input number of terms: '))\n",
        "odd_numbers = [2*i + 1 for i in range(n)]\n",
        "sum_of_odd_numbers = sum(odd_numbers)\n",
        "print(f'The odd numbers are: {odd_numbers}')\n",
        "print(f'The Sum of odd Natural Numbers up to {n} terms: {sum_of_odd_numbers}')\n"
      ],
      "metadata": {
        "colab": {
          "base_uri": "https://localhost:8080/"
        },
        "id": "maVPbqoUk06r",
        "outputId": "33092fb0-101e-4ca9-9d3d-8ad9d0e8d590"
      },
      "execution_count": 9,
      "outputs": [
        {
          "output_type": "stream",
          "name": "stdout",
          "text": [
            "Input number of terms: 5\n",
            "The odd numbers are: [1, 3, 5, 7, 9]\n",
            "The Sum of odd Natural Numbers up to 5 terms: 25\n"
          ]
        }
      ]
    }
  ]
}