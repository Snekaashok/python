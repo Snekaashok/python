{
  "nbformat": 4,
  "nbformat_minor": 0,
  "metadata": {
    "colab": {
      "provenance": [],
      "authorship_tag": "ABX9TyNuVo0zqnpMsResiSIgvkFC",
      "include_colab_link": true
    },
    "kernelspec": {
      "name": "python3",
      "display_name": "Python 3"
    },
    "language_info": {
      "name": "python"
    }
  },
  "cells": [
    {
      "cell_type": "markdown",
      "metadata": {
        "id": "view-in-github",
        "colab_type": "text"
      },
      "source": [
        "<a href=\"https://colab.research.google.com/github/Snekaashok/python/blob/main/pattern_1.ipynb\" target=\"_parent\"><img src=\"https://colab.research.google.com/assets/colab-badge.svg\" alt=\"Open In Colab\"/></a>"
      ]
    },
    {
      "cell_type": "code",
      "execution_count": 2,
      "metadata": {
        "colab": {
          "base_uri": "https://localhost:8080/"
        },
        "id": "UOQizx3QIG4y",
        "outputId": "0ba3713f-1d31-4c6e-c385-ad68e2db7c27"
      },
      "outputs": [
        {
          "output_type": "stream",
          "name": "stdout",
          "text": [
            "Enter the side length: 4\n",
            "# # # # \n",
            "# # # # \n",
            "# # # # \n",
            "# # # # \n"
          ]
        }
      ],
      "source": [
        "side_length = int(input(\"Enter the side length: \"))\n",
        "for i in range(side_length):\n",
        "    print(\"# \" * side_length)\n"
      ]
    }
  ]
}