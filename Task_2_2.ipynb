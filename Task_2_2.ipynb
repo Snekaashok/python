{
  "nbformat": 4,
  "nbformat_minor": 0,
  "metadata": {
    "colab": {
      "provenance": [],
      "authorship_tag": "ABX9TyN2yN7jVZHxJodFTb52cvwi",
      "include_colab_link": true
    },
    "kernelspec": {
      "name": "python3",
      "display_name": "Python 3"
    },
    "language_info": {
      "name": "python"
    }
  },
  "cells": [
    {
      "cell_type": "markdown",
      "metadata": {
        "id": "view-in-github",
        "colab_type": "text"
      },
      "source": [
        "<a href=\"https://colab.research.google.com/github/Snekaashok/python/blob/main/Task_2_2.ipynb\" target=\"_parent\"><img src=\"https://colab.research.google.com/assets/colab-badge.svg\" alt=\"Open In Colab\"/></a>"
      ]
    },
    {
      "cell_type": "code",
      "execution_count": 1,
      "metadata": {
        "colab": {
          "base_uri": "https://localhost:8080/"
        },
        "id": "h64h8u9hS0qB",
        "outputId": "5970c1db-9bc3-4f46-ae4c-5c73bead6024"
      },
      "outputs": [
        {
          "output_type": "stream",
          "name": "stdout",
          "text": [
            "Input the upper limit: 25\n",
            "The non-prime numbers are:\n",
            "4 6 8 9 10 12 14 15 16 18 20 21 22 24 25 "
          ]
        }
      ],
      "source": [
        "def is_prime(num):\n",
        "    if num < 2:\n",
        "        return False\n",
        "    for i in range(2, num):\n",
        "        if num % i == 0:\n",
        "            return False\n",
        "    return True\n",
        "\n",
        "upper_limit = int(input(\"Input the upper limit: \"))\n",
        "\n",
        "print(\"The non-prime numbers are:\")\n",
        "for num in range(2, upper_limit + 1):\n",
        "    if not is_prime(num):\n",
        "        print(num, end=\" \")\n"
      ]
    }
  ]
}