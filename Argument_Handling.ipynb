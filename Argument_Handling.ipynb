{
  "nbformat": 4,
  "nbformat_minor": 0,
  "metadata": {
    "colab": {
      "provenance": [],
      "authorship_tag": "ABX9TyPeAPdOLqlAUKj1GoSqxts5",
      "include_colab_link": true
    },
    "kernelspec": {
      "name": "python3",
      "display_name": "Python 3"
    },
    "language_info": {
      "name": "python"
    }
  },
  "cells": [
    {
      "cell_type": "markdown",
      "metadata": {
        "id": "view-in-github",
        "colab_type": "text"
      },
      "source": [
        "<a href=\"https://colab.research.google.com/github/Snekaashok/python/blob/main/Argument_Handling.ipynb\" target=\"_parent\"><img src=\"https://colab.research.google.com/assets/colab-badge.svg\" alt=\"Open In Colab\"/></a>"
      ]
    },
    {
      "cell_type": "code",
      "execution_count": 8,
      "metadata": {
        "colab": {
          "base_uri": "https://localhost:8080/"
        },
        "id": "VigsSDJlj_Ig",
        "outputId": "45607e0e-d035-4e11-d5fd-7e939192b94c"
      },
      "outputs": [
        {
          "output_type": "stream",
          "name": "stdout",
          "text": [
            "args 1\n",
            "args sne\n",
            "args ka\n",
            "kwargs a 19\n",
            "kwargs b 2004\n"
          ]
        }
      ],
      "source": [
        "def func(*args, **kwargs):\n",
        "  for arg in args:\n",
        "    print(\"args\",arg)\n",
        "\n",
        "  for key, value in kwargs.items():\n",
        "    print(\"kwargs\", key, value)\n",
        "\n",
        "\n",
        "func(1, \"sne\", \"ka\", a= 19 , b= 2004)"
      ]
    }
  ]
}