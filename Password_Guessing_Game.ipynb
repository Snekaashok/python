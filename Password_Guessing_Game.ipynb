{
  "nbformat": 4,
  "nbformat_minor": 0,
  "metadata": {
    "colab": {
      "provenance": [],
      "authorship_tag": "ABX9TyOcvwtXbykR8Gn+LG/XQXiH",
      "include_colab_link": true
    },
    "kernelspec": {
      "name": "python3",
      "display_name": "Python 3"
    },
    "language_info": {
      "name": "python"
    }
  },
  "cells": [
    {
      "cell_type": "markdown",
      "metadata": {
        "id": "view-in-github",
        "colab_type": "text"
      },
      "source": [
        "<a href=\"https://colab.research.google.com/github/Snekaashok/python/blob/main/Password_Guessing_Game.ipynb\" target=\"_parent\"><img src=\"https://colab.research.google.com/assets/colab-badge.svg\" alt=\"Open In Colab\"/></a>"
      ]
    },
    {
      "cell_type": "code",
      "source": [
        "correct_password = \"password123\"\n",
        "while input(\"Enter the password: \") != correct_password:\n",
        "    print(\"Incorrect password. Try again.\")\n",
        "print(\"Congratulations! You've guessed the correct password.\")"
      ],
      "metadata": {
        "id": "6QKRjCWC68h5",
        "outputId": "bb7b0ee8-2ba8-4714-92a0-43eed65b41d8",
        "colab": {
          "base_uri": "https://localhost:8080/"
        }
      },
      "execution_count": 19,
      "outputs": [
        {
          "output_type": "stream",
          "name": "stdout",
          "text": [
            "Enter the password: password123\n",
            "Congratulations! You've guessed the correct password.\n"
          ]
        }
      ]
    }
  ]
}