{
  "nbformat": 4,
  "nbformat_minor": 0,
  "metadata": {
    "colab": {
      "provenance": [],
      "authorship_tag": "ABX9TyN0iblGmF7P6+HGRlw17+6l",
      "include_colab_link": true
    },
    "kernelspec": {
      "name": "python3",
      "display_name": "Python 3"
    },
    "language_info": {
      "name": "python"
    }
  },
  "cells": [
    {
      "cell_type": "markdown",
      "metadata": {
        "id": "view-in-github",
        "colab_type": "text"
      },
      "source": [
        "<a href=\"https://colab.research.google.com/github/Snekaashok/python/blob/main/Task_3_2.ipynb\" target=\"_parent\"><img src=\"https://colab.research.google.com/assets/colab-badge.svg\" alt=\"Open In Colab\"/></a>"
      ]
    },
    {
      "cell_type": "code",
      "source": [
        "n = int(input('Input number of terms: '))\n",
        "even_numbers = [2*i + 2 for i in range(n)]\n",
        "sum_of_even_numbers = sum(even_numbers)\n",
        "print(f'The even numbers are: {even_numbers}')\n",
        "print(f'The Sum of even Natural Numbers up to {n} terms: {sum_of_even_numbers}')"
      ],
      "metadata": {
        "colab": {
          "base_uri": "https://localhost:8080/"
        },
        "id": "OKBIGlGYlfvd",
        "outputId": "0d328a8f-f642-4bc3-8177-4c74492f8e46"
      },
      "execution_count": 12,
      "outputs": [
        {
          "output_type": "stream",
          "name": "stdout",
          "text": [
            "Input number of terms: 5\n",
            "The even numbers are: [2, 4, 6, 8, 10]\n",
            "The Sum of even Natural Numbers up to 5 terms: 30\n"
          ]
        }
      ]
    }
  ]
}