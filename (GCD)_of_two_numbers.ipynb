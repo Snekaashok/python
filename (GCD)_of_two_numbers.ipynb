{
  "nbformat": 4,
  "nbformat_minor": 0,
  "metadata": {
    "colab": {
      "provenance": [],
      "authorship_tag": "ABX9TyORvcAAjnT+7ryID/+86OPk",
      "include_colab_link": true
    },
    "kernelspec": {
      "name": "python3",
      "display_name": "Python 3"
    },
    "language_info": {
      "name": "python"
    }
  },
  "cells": [
    {
      "cell_type": "markdown",
      "metadata": {
        "id": "view-in-github",
        "colab_type": "text"
      },
      "source": [
        "<a href=\"https://colab.research.google.com/github/Snekaashok/python/blob/main/(GCD)_of_two_numbers.ipynb\" target=\"_parent\"><img src=\"https://colab.research.google.com/assets/colab-badge.svg\" alt=\"Open In Colab\"/></a>"
      ]
    },
    {
      "cell_type": "code",
      "source": [
        "def gcd(x, y):\n",
        "    return x if y == 0 else gcd(y, x % y)\n",
        "\n",
        "num1 = int(input(\"Input the first number: \"))\n",
        "num2 = int(input(\"Input the second number: \"))\n",
        "\n",
        "print(\"The Greatest Common Divisor is:\", gcd(num1, num2))\n"
      ],
      "metadata": {
        "colab": {
          "base_uri": "https://localhost:8080/"
        },
        "id": "glhhi5pIOk6j",
        "outputId": "5e483705-d46a-4a05-a55a-4e4721ee2e3d"
      },
      "execution_count": 5,
      "outputs": [
        {
          "output_type": "stream",
          "name": "stdout",
          "text": [
            "Input the first number: 25\n",
            "Input the second number: 15\n",
            "The Greatest Common Divisor is: 5\n"
          ]
        }
      ]
    }
  ]
}