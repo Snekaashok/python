{
  "nbformat": 4,
  "nbformat_minor": 0,
  "metadata": {
    "colab": {
      "provenance": [],
      "authorship_tag": "ABX9TyMmuA/quBJloTIWykZ1GGKH",
      "include_colab_link": true
    },
    "kernelspec": {
      "name": "python3",
      "display_name": "Python 3"
    },
    "language_info": {
      "name": "python"
    }
  },
  "cells": [
    {
      "cell_type": "markdown",
      "metadata": {
        "id": "view-in-github",
        "colab_type": "text"
      },
      "source": [
        "<a href=\"https://colab.research.google.com/github/Snekaashok/python/blob/main/calculate_the_sum_of_series.ipynb\" target=\"_parent\"><img src=\"https://colab.research.google.com/assets/colab-badge.svg\" alt=\"Open In Colab\"/></a>"
      ]
    },
    {
      "cell_type": "code",
      "source": [
        "n = int(input(\"Input the value for nth term: \"))\n",
        "series_sum = sum(i * i for i in range(1, n + 1))\n",
        "\n",
        "for i in range(1, n + 1):\n",
        "    print(\"{}*{} = {}\".format(i, i, i * i))\n",
        "\n",
        "print(\"Sum of the series:\", series_sum)\n"
      ],
      "metadata": {
        "colab": {
          "base_uri": "https://localhost:8080/"
        },
        "id": "oHThFJ2ZQuiB",
        "outputId": "f0de37a5-da34-422e-b864-d1654c5953fd"
      },
      "execution_count": 8,
      "outputs": [
        {
          "output_type": "stream",
          "name": "stdout",
          "text": [
            "Input the value for nth term: 5\n",
            "1*1 = 1\n",
            "2*2 = 4\n",
            "3*3 = 9\n",
            "4*4 = 16\n",
            "5*5 = 25\n",
            "Sum of the series: 55\n"
          ]
        }
      ]
    }
  ]
}