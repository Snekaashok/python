{
  "nbformat": 4,
  "nbformat_minor": 0,
  "metadata": {
    "colab": {
      "provenance": [],
      "name": "pyramid_use_alphabet..ipynb",
      "authorship_tag": "ABX9TyMJH2djMT0jBXYYaTgYIdWl",
      "include_colab_link": true
    },
    "kernelspec": {
      "name": "python3",
      "display_name": "Python 3"
    },
    "language_info": {
      "name": "python"
    }
  },
  "cells": [
    {
      "cell_type": "markdown",
      "metadata": {
        "id": "view-in-github",
        "colab_type": "text"
      },
      "source": [
        "<a href=\"https://colab.research.google.com/github/Snekaashok/python/blob/main/pyramid_use_alphabet_.ipynb\" target=\"_parent\"><img src=\"https://colab.research.google.com/assets/colab-badge.svg\" alt=\"Open In Colab\"/></a>"
      ]
    },
    {
      "cell_type": "code",
      "source": [
        "def print_alphabet_pyramid(n):\n",
        "    if n > 26:\n",
        "        print(\"Input should be less than 26\")\n",
        "        return\n",
        "\n",
        "    for i in range(n):\n",
        "        # Print spaces\n",
        "        print(' ' * (n - i - 1), end='')\n",
        "\n",
        "        # Print left half of the row\n",
        "        for j in range(i + 1):\n",
        "            print(chr(65 + j), end=' ')\n",
        "\n",
        "        # Print right half of the row\n",
        "        for j in range(i, 0, -1):\n",
        "            print(chr(65 + j - 1), end=' ')\n",
        "\n",
        "        print()\n",
        "\n",
        "\n",
        "# Input the number of Letters\n",
        "num = int(input(\"Input the number of Letters (less than 26) in the Pyramid: \"))\n",
        "print_alphabet_pyramid(num)\n"
      ],
      "metadata": {
        "id": "acrHt0dJI_Ns",
        "outputId": "7dfc2b46-949e-4803-fd96-a4b4a2000062",
        "colab": {
          "base_uri": "https://localhost:8080/"
        }
      },
      "execution_count": 11,
      "outputs": [
        {
          "output_type": "stream",
          "name": "stdout",
          "text": [
            "Input the number of Letters (less than 26) in the Pyramid: 6\n",
            "     A \n",
            "    A B A \n",
            "   A B C B A \n",
            "  A B C D C B A \n",
            " A B C D E D C B A \n",
            "A B C D E F E D C B A \n"
          ]
        }
      ]
    }
  ]
}