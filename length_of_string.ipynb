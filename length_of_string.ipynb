{
  "nbformat": 4,
  "nbformat_minor": 0,
  "metadata": {
    "colab": {
      "provenance": [],
      "name": "length_of_string.ipynb",
      "authorship_tag": "ABX9TyMVwMbviQusAASyb4TCUAsu",
      "include_colab_link": true
    },
    "kernelspec": {
      "name": "python3",
      "display_name": "Python 3"
    },
    "language_info": {
      "name": "python"
    }
  },
  "cells": [
    {
      "cell_type": "markdown",
      "metadata": {
        "id": "view-in-github",
        "colab_type": "text"
      },
      "source": [
        "<a href=\"https://colab.research.google.com/github/Snekaashok/python/blob/main/length_of_string.ipynb\" target=\"_parent\"><img src=\"https://colab.research.google.com/assets/colab-badge.svg\" alt=\"Open In Colab\"/></a>"
      ]
    },
    {
      "cell_type": "code",
      "source": [
        "input_string = input(\"Input a string: \")\n",
        "count = sum(1 for _ in input_string)\n",
        "print(\"The string contains\", count, \"number of characters.\")\n",
        "print(\"So, the length of the string\", input_string, \"is:\", count)\n"
      ],
      "metadata": {
        "id": "ZAwNzrqEHLI_",
        "outputId": "e888ff25-9a9f-428b-cc0d-99528c590ef8",
        "colab": {
          "base_uri": "https://localhost:8080/"
        }
      },
      "execution_count": 4,
      "outputs": [
        {
          "output_type": "stream",
          "name": "stdout",
          "text": [
            "Input a string: www.com\n",
            "The string contains 7 number of characters.\n",
            "So, the length of the string www.com is: 7\n"
          ]
        }
      ]
    }
  ]
}