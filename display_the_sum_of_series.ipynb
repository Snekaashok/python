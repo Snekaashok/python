{
  "nbformat": 4,
  "nbformat_minor": 0,
  "metadata": {
    "colab": {
      "provenance": [],
      "authorship_tag": "ABX9TyO5hxLpvjosvr89IlNnKUg4",
      "include_colab_link": true
    },
    "kernelspec": {
      "name": "python3",
      "display_name": "Python 3"
    },
    "language_info": {
      "name": "python"
    }
  },
  "cells": [
    {
      "cell_type": "markdown",
      "metadata": {
        "id": "view-in-github",
        "colab_type": "text"
      },
      "source": [
        "<a href=\"https://colab.research.google.com/github/Snekaashok/python/blob/main/display_the_sum_of_series.ipynb\" target=\"_parent\"><img src=\"https://colab.research.google.com/assets/colab-badge.svg\" alt=\"Open In Colab\"/></a>"
      ]
    },
    {
      "cell_type": "code",
      "source": [
        "num_terms = int(input(\"Input number of terms: \"))\n",
        "series = [9 * int('1' * i) for i in range(1, num_terms + 1)]\n",
        "print(\"The series:\", *series)\n",
        "print(\"The sum of the series =\", sum(series))\n"
      ],
      "metadata": {
        "colab": {
          "base_uri": "https://localhost:8080/"
        },
        "id": "f45RT3UNSjh-",
        "outputId": "de6bafbe-7484-40c9-db5e-6e54d50687b7"
      },
      "execution_count": 10,
      "outputs": [
        {
          "output_type": "stream",
          "name": "stdout",
          "text": [
            "Input number of terms: 5\n",
            "The series: 9 99 999 9999 99999\n",
            "The sum of the series = 111105\n"
          ]
        }
      ]
    }
  ]
}