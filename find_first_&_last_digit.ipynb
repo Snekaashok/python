{
  "nbformat": 4,
  "nbformat_minor": 0,
  "metadata": {
    "colab": {
      "provenance": [],
      "authorship_tag": "ABX9TyM9uOIOD3voJVnX6DSwr+He",
      "include_colab_link": true
    },
    "kernelspec": {
      "name": "python3",
      "display_name": "Python 3"
    },
    "language_info": {
      "name": "python"
    }
  },
  "cells": [
    {
      "cell_type": "markdown",
      "metadata": {
        "id": "view-in-github",
        "colab_type": "text"
      },
      "source": [
        "<a href=\"https://colab.research.google.com/github/Snekaashok/python/blob/main/find_first_%26_last_digit.ipynb\" target=\"_parent\"><img src=\"https://colab.research.google.com/assets/colab-badge.svg\" alt=\"Open In Colab\"/></a>"
      ]
    },
    {
      "cell_type": "code",
      "execution_count": 1,
      "metadata": {
        "colab": {
          "base_uri": "https://localhost:8080/"
        },
        "id": "mqhB7kwn9IsP",
        "outputId": "a68aa57b-bbdb-48a1-c223-a2100ac19b90"
      },
      "outputs": [
        {
          "output_type": "stream",
          "name": "stdout",
          "text": [
            "Input any number: 12345\n",
            "The first digit of 12345 is: 1\n",
            "The last digit of 12345 is: 5\n"
          ]
        }
      ],
      "source": [
        "number = input(\"Input any number: \")\n",
        "print(\"The first digit of\", number, \"is:\", number[0])\n",
        "print(\"The last digit of\", number, \"is:\", number[-1])\n"
      ]
    }
  ]
}