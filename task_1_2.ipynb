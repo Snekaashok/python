{
  "nbformat": 4,
  "nbformat_minor": 0,
  "metadata": {
    "colab": {
      "provenance": [],
      "authorship_tag": "ABX9TyOT2+Asg3Opt1L99ia0iLtB",
      "include_colab_link": true
    },
    "kernelspec": {
      "name": "python3",
      "display_name": "Python 3"
    },
    "language_info": {
      "name": "python"
    }
  },
  "cells": [
    {
      "cell_type": "markdown",
      "metadata": {
        "id": "view-in-github",
        "colab_type": "text"
      },
      "source": [
        "<a href=\"https://colab.research.google.com/github/Snekaashok/python/blob/main/task_1_2.ipynb\" target=\"_parent\"><img src=\"https://colab.research.google.com/assets/colab-badge.svg\" alt=\"Open In Colab\"/></a>"
      ]
    },
    {
      "cell_type": "code",
      "source": [
        "num_terms = int(input(\"Input a number of terms: \"))\n",
        "\n",
        "natural_numbers = list(range(1, num_terms + 1))\n",
        "sum_of_numbers = sum(natural_numbers)\n",
        "\n",
        "print(\"The natural numbers up to {} terms are:\".format(num_terms))\n",
        "print(*natural_numbers)\n",
        "print(\"The sum of the natural numbers is:\", sum_of_numbers)\n"
      ],
      "metadata": {
        "colab": {
          "base_uri": "https://localhost:8080/"
        },
        "id": "bnFam7oJUbZl",
        "outputId": "8a4f975e-d8c1-4bc7-c6f1-010d8b6e939a"
      },
      "execution_count": 15,
      "outputs": [
        {
          "output_type": "stream",
          "name": "stdout",
          "text": [
            "Input a number of terms: 7\n",
            "The natural numbers up to 7 terms are:\n",
            "1 2 3 4 5 6 7\n",
            "The sum of the natural numbers is: 28\n"
          ]
        }
      ]
    }
  ]
}