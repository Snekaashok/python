{
  "nbformat": 4,
  "nbformat_minor": 0,
  "metadata": {
    "colab": {
      "provenance": [],
      "authorship_tag": "ABX9TyNgREeHdVvBbWIal9UQiMte",
      "include_colab_link": true
    },
    "kernelspec": {
      "name": "python3",
      "display_name": "Python 3"
    },
    "language_info": {
      "name": "python"
    }
  },
  "cells": [
    {
      "cell_type": "markdown",
      "metadata": {
        "id": "view-in-github",
        "colab_type": "text"
      },
      "source": [
        "<a href=\"https://colab.research.google.com/github/Snekaashok/python/blob/main/perfect_numbers.ipynb\" target=\"_parent\"><img src=\"https://colab.research.google.com/assets/colab-badge.svg\" alt=\"Open In Colab\"/></a>"
      ]
    },
    {
      "cell_type": "code",
      "execution_count": 1,
      "metadata": {
        "colab": {
          "base_uri": "https://localhost:8080/"
        },
        "id": "CBza3hV-JxaM",
        "outputId": "3a2bf5df-7615-47c4-ce05-cef4efbf1bbc"
      },
      "outputs": [
        {
          "output_type": "stream",
          "name": "stdout",
          "text": [
            "Perfect numbers between 1 and 500: [6, 28, 496]\n"
          ]
        }
      ],
      "source": [
        "def is_perfect(num):\n",
        "    return num == sum(d for d in range(1, num) if num % d == 0)\n",
        "\n",
        "perfect_numbers = [num for num in range(1, 501) if is_perfect(num)]\n",
        "\n",
        "print(\"Perfect numbers between 1 and 500:\", perfect_numbers)\n"
      ]
    }
  ]
}