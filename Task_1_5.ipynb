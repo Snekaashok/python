{
  "nbformat": 4,
  "nbformat_minor": 0,
  "metadata": {
    "colab": {
      "provenance": [],
      "authorship_tag": "ABX9TyNFnNmWnTjPFjagPV5ke0mW",
      "include_colab_link": true
    },
    "kernelspec": {
      "name": "python3",
      "display_name": "Python 3"
    },
    "language_info": {
      "name": "python"
    }
  },
  "cells": [
    {
      "cell_type": "markdown",
      "metadata": {
        "id": "view-in-github",
        "colab_type": "text"
      },
      "source": [
        "<a href=\"https://colab.research.google.com/github/Snekaashok/python/blob/main/Task_1_5.ipynb\" target=\"_parent\"><img src=\"https://colab.research.google.com/assets/colab-badge.svg\" alt=\"Open In Colab\"/></a>"
      ]
    },
    {
      "cell_type": "code",
      "source": [
        "start=int(input(\"Input number for starting range: \"))\n",
        "end=int(input(\"Input number for ending range: \"))\n",
        "prime_numbers=[]\n",
        "for num in range(start,end+1):\n",
        "    if num>1:\n",
        "        for i in range(2,int(num ** 0.5)+1):\n",
        "            if(num%i)==0:\n",
        "                break\n",
        "        else:\n",
        "            prime_numbers.append(num)\n",
        "\n",
        "print(\"The prime numbers between\",start,\"and\",end,\"are:\")\n",
        "print(*prime_numbers)\n",
        "print(\"The total number of prime numbers between\",start,\"and\",end,\"is:\",len(prime_numbers))"
      ],
      "metadata": {
        "colab": {
          "base_uri": "https://localhost:8080/"
        },
        "id": "U1xZh0FwMKMD",
        "outputId": "60c0d4fc-68a2-4763-999f-9d28d03cc315"
      },
      "execution_count": 19,
      "outputs": [
        {
          "output_type": "stream",
          "name": "stdout",
          "text": [
            "Input number for starting range: 1\n",
            "Input number for ending range: 100\n",
            "The prime numbers between 1 and 100 are:\n",
            "2 3 5 7 11 13 17 19 23 29 31 37 41 43 47 53 59 61 67 71 73 79 83 89 97\n",
            "The total number of prime numbers between 1 and 100 is: 25\n"
          ]
        }
      ]
    }
  ]
}